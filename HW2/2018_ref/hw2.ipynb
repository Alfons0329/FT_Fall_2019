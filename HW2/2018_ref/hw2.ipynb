{
 "cells": [
  {
   "cell_type": "code",
   "execution_count": 2,
   "metadata": {},
   "outputs": [
    {
     "name": "stdout",
     "output_type": "stream",
     "text": [
      "13414\n"
     ]
    }
   ],
   "source": [
    "'''\n",
    "How my strategy is designed:\n",
    "\n",
    "'''\n",
    "\n",
    "import numpy as np\n",
    "import pandas\n",
    "import os, sys, csv\n",
    "\n",
    "def myStrategy(pastData, currPrice, stockType):\n",
    "    import numpy as np\n",
    "    action = 0\n",
    "    # action = 0 or 1 or -1\n",
    "    # ....\n",
    "    # ....\n",
    "    # ....\n",
    "    # ....\n",
    "    # ....\n",
    "    return action\n",
    "\n"
   ]
  }
 ],
 "metadata": {
  "kernelspec": {
   "display_name": "Python 3",
   "language": "python",
   "name": "python3"
  },
  "language_info": {
   "codemirror_mode": {
    "name": "ipython",
    "version": 3
   },
   "file_extension": ".py",
   "mimetype": "text/x-python",
   "name": "python",
   "nbconvert_exporter": "python",
   "pygments_lexer": "ipython3",
   "version": "3.6.7"
  }
 },
 "nbformat": 4,
 "nbformat_minor": 2
}
