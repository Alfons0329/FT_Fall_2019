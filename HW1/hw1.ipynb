{
 "cells": [
  {
   "cell_type": "code",
   "execution_count": 83,
   "metadata": {},
   "outputs": [
    {
     "name": "stdout",
     "output_type": "stream",
     "text": [
      "Index(['成交日期', '商品代號', '到期月份(週別)', '成交時間', '成交價格', '成交數量(B+S)', '近月價格', '遠月價格',\n",
      "       '開盤集合競價 '],\n",
      "      dtype='object')\n",
      "16648    10906.0\n",
      "Name: 成交價格, dtype: float64 16868    10918.0\n",
      "Name: 成交價格, dtype: float64 30461    10390.0\n",
      "Name: 成交價格, dtype: float64 23625    10896.0\n",
      "Name: 成交價格, dtype: float64\n"
     ]
    }
   ],
   "source": [
    "import pandas as pd\n",
    "import numpy\n",
    "import csv\n",
    "import sys, os\n",
    "import warnings\n",
    "warnings.filterwarnings('ignore')\n",
    "\n",
    "input_day = 'Daily_2019_09_20.csv'\n",
    "input_day = input_str.replace('Daily_', '')\n",
    "input_day = input_str.replace('_', '')\n",
    "input_day = input_str.replace('.csv', '')\n",
    "\n",
    "df_orig = pd.read_csv('Daily_2019_09_20.csv', encoding = 'big5')\n",
    "print(df.columns)\n",
    "df = df_orig[df_orig['商品代號'] == 'TX     ']\n",
    "df = df[df['成交日期'] == int(input_day)]\n",
    "print(df_orig.iloc[[df['成交時間'].argmin()]]['成交價格'], \\\n",
    "     df_orig.iloc[[df['成交價格'].argmax()]]['成交價格'], \\\n",
    "     df_orig.iloc[[df['成交價格'].argmin()]]['成交價格'], \\\n",
    "     df_orig.iloc[[df['成交時間'].argmax()]]['成交價格'], )"
   ]
  }
 ],
 "metadata": {
  "kernelspec": {
   "display_name": "Python 3",
   "language": "python",
   "name": "python3"
  },
  "language_info": {
   "codemirror_mode": {
    "name": "ipython",
    "version": 3
   },
   "file_extension": ".py",
   "mimetype": "text/x-python",
   "name": "python",
   "nbconvert_exporter": "python",
   "pygments_lexer": "ipython3",
   "version": "3.6.7"
  }
 },
 "nbformat": 4,
 "nbformat_minor": 2
}
