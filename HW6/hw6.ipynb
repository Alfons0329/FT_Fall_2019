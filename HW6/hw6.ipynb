{
 "cells": [
  {
   "cell_type": "markdown",
   "metadata": {},
   "source": [
    "# Fintech Homework 6, BlockChain and CryptoCurrency\n",
    "\n",
    "## NTU CSIE R08922024 胡安鳳 [d = 922024]\n",
    "\n",
    "Use the elliptic curve “secp256k1” as Bitcoin and Ethereum. Let G be\n",
    "the base point in the standard. Let d be the last 6 digits of your student\n",
    "ID number.\n",
    "\n",
    "Module prequisities\n",
    "pycoin ecdsa secp256k1 --> https://pycoin.readthedocs.io/en/latest/api.html\n",
    "`pip3 install pycoin ecdsa`\n",
    "\n",
    "### 1. "
   ]
  },
  {
   "cell_type": "code",
   "execution_count": 81,
   "metadata": {},
   "outputs": [
    {
     "name": "stdout",
     "output_type": "stream",
     "text": [
      "x = 0xe493dbf1c10d80f3581e4904930b1404cc6c13900ee0758474fa94abe8c4cd13 \n",
      "y = 0x51ed993ea0d455b75642e2098ea51448d967ae33bfbdfe40cfe97bdc47739922\n"
     ]
    }
   ],
   "source": [
    "import numpy as np\n",
    "from pycoin.ecdsa.secp256k1 import secp256k1_generator as g\n",
    "\n",
    "STU_ID = 922024\n",
    "\n",
    "x, y = 4 * g\n",
    "print('x = %s \\ny = %s' %(hex(x), hex(y)))"
   ]
  },
  {
   "cell_type": "markdown",
   "metadata": {},
   "source": [
    "### 2. "
   ]
  },
  {
   "cell_type": "code",
   "execution_count": 82,
   "metadata": {},
   "outputs": [
    {
     "name": "stdout",
     "output_type": "stream",
     "text": [
      "x = 0x2f8bde4d1a07209355b4a7250a5c5128e88b84bddc619ab7cba8d569b240efe4 \n",
      "y = 0xd8ac222636e5e3d6d4dba9dda6c9c426f788271bab0d6840dca87d3aa6ac62d6\n"
     ]
    }
   ],
   "source": [
    "x, y = 5 * g\n",
    "print('x = %s \\ny = %s' %(hex(x), hex(y)))"
   ]
  },
  {
   "cell_type": "markdown",
   "metadata": {},
   "source": [
    "### 3. "
   ]
  },
  {
   "cell_type": "code",
   "execution_count": 83,
   "metadata": {},
   "outputs": [
    {
     "name": "stdout",
     "output_type": "stream",
     "text": [
      "x = 0x4eb5558d3cefbc3aa76064f8a529e1992b6a2eae9c955d0869fc284fc6216db9 \n",
      "y = 0xb6a6a2108b1be93f13588bd3a41393ac88deb0e6f6ef9cb81ef00368cd7da92c\n"
     ]
    }
   ],
   "source": [
    "x, y = STU_ID * g\n",
    "print('x = %s \\ny = %s' %(hex(x), hex(y)))"
   ]
  },
  {
   "cell_type": "markdown",
   "metadata": {},
   "source": [
    "### 4. "
   ]
  },
  {
   "cell_type": "code",
   "execution_count": 84,
   "metadata": {},
   "outputs": [
    {
     "name": "stdout",
     "output_type": "stream",
     "text": [
      "binary representation of 922024:  01010000010000101001001000\n",
      "add 7 times \n",
      "double 19 times \n",
      "total 26 times\n",
      "datailed steps  ['d', 'a', 'd', 'a', 'd', 'd', 'd', 'd', 'd', 'a', 'd', 'd', 'd', 'd', 'a', 'd', 'a', 'd', 'd', 'a', 'd', 'd', 'a', 'd', 'd', 'd']\n"
     ]
    }
   ],
   "source": [
    "list_operations = []\n",
    "binary_str = ''\n",
    "STU_ID = 922024\n",
    "num = STU_ID\n",
    "\n",
    "while num > 1:\n",
    "    if num & 0x1 == 1:\n",
    "        list_operations.append('a')\n",
    "        binary_str += '1'\n",
    "        num -= 1\n",
    "    else:\n",
    "        list_operations.append('d')\n",
    "        binary_str += '0'\n",
    "        num >>= 1\n",
    "    \n",
    "list_operations = list_operations[::-1]\n",
    "binary_str = binary_str[::-1]\n",
    "\n",
    "print('binary representation of 922024: ', binary_str)\n",
    "print('add %d times ' % (list_operations.count('a')))\n",
    "print('double %d times ' % (list_operations.count('d')))\n",
    "print('total %d times' % (len(list_operations)))\n",
    "print('datailed steps ', list_operations)\n"
   ]
  },
  {
   "cell_type": "markdown",
   "metadata": {},
   "source": [
    "### 5. \n",
    "\n",
    "dada --> adds (no improvent for performance)\n",
    "dadada --> addds equivalent to 111 = (0 + 1) << 3 and then subtract 1\n",
    "dadadada ---> adddds equivalent to 1111 = (0 + 1) << 4 then subtract 1\n",
    "\n",
    "such method can be done in a greedy manner"
   ]
  },
  {
   "cell_type": "code",
   "execution_count": 85,
   "metadata": {},
   "outputs": [
    {
     "name": "stdout",
     "output_type": "stream",
     "text": [
      "binary representation of 922024:  0b11100001000110101000\n",
      "add 7 times \n",
      "double 19 times \n",
      "subtract 0 times \n",
      "total 26 times\n",
      "datailed steps  ['d', 'a', 'd', 'a', 'd', 'd', 'd', 'd', 'd', 'a', 'd', 'd', 'd', 'd', 'a', 'd', 'a', 'd', 'd', 'a', 'd', 'd', 'a', 'd', 'd', 'd']\n"
     ]
    }
   ],
   "source": [
    "binary_str = bin(STU_ID)\n",
    "\n",
    "# build a replace list, dadada --> addds, dadadada ---> adddds\n",
    "replace_pair = []\n",
    "half = len(binary_str) >> 1\n",
    "if half % 2:\n",
    "    half -= 1\n",
    "    \n",
    "# greedy approach\n",
    "for i in range(3, half + 1):\n",
    "    replace_pair.append(('da' * i, 'a' + 'd' * i + 's'))\n",
    "\n",
    "str_operations = ''.join(list_operations)\n",
    "for each_pair in reversed(replace_pair):\n",
    "    target_str, new_str = each_pair\n",
    "    str_operations = str_operations.replace(target_str, new_str)\n",
    "\n",
    "list_operations = list(str_operations)\n",
    "    \n",
    "print('binary representation of 922024: ', binary_str)\n",
    "print('add %d times ' % (list_operations.count('a')))\n",
    "print('double %d times ' % (list_operations.count('d')))\n",
    "print('subtract %d times ' % (list_operations.count('s')))\n",
    "print('total %d times' % (len(list_operations)))\n",
    "print('datailed steps ', list_operations)"
   ]
  },
  {
   "cell_type": "markdown",
   "metadata": {},
   "source": [
    "### 6. "
   ]
  },
  {
   "cell_type": "code",
   "execution_count": 100,
   "metadata": {},
   "outputs": [
    {
     "name": "stdout",
     "output_type": "stream",
     "text": [
      "msg_hashed =  7003b599f401d2169a86845cf20d813c8e6d2fec18dc2ebd928d4f2dbcfc9b6c\n",
      "order of G =  115792089237316195423570985008687907852837564279074904382605163141518161494337\n",
      "<class 'int'> <class 'int'>\n",
      "r = 0x7f75c66c45a52c35ead5970bbfaafdfba626a6ddceabc14e0f8a8c7d88a5772b \n",
      "s = 0x91f8d9ea983bb087f986acef87ad548402461da8785dde215992395f7b757a3a\n"
     ]
    }
   ],
   "source": [
    "import hashlib\n",
    "\n",
    "STU_ID = 922024\n",
    "\n",
    "def exgcd(a, b, x, y):\n",
    "    if a == 0:\n",
    "        x = 0\n",
    "        y = 1\n",
    "        return x, y, b\n",
    "    \n",
    "    x1 = 0\n",
    "    y1 = 0\n",
    "    x1, y1, gcd = exgcd(b % a, a, x1, y1)\n",
    "    x = y1 - (b // a) * x1\n",
    "    y = x1\n",
    "    \n",
    "    return x, y, gcd\n",
    "\n",
    "def modinv(a, m):\n",
    "    x, y, gcd = exgcd(a, m, 0, 0)\n",
    "    assert gcd == 1, 'Modular inverse does not exist'\n",
    "    \n",
    "    return (x % m + m) % m\n",
    "\n",
    "\n",
    "# step referencing to ECDSA signing in blockchain ppt - 3\n",
    "def signing():\n",
    "    print('\\n--------------ECDSA Signing-----------------\\n')\n",
    "    # 1. calculate msg_hashed = HASH(msg)\n",
    "    msg = 'R08922024'\n",
    "    hash_func = hashlib.sha256()\n",
    "    hash_func.update(msg.encode('utf-8'))\n",
    "    msg_hashed = hash_func.hexdigest()\n",
    "    print('msg_hashed = ', msg_hashed)\n",
    "    \n",
    "    # 2~4. Random k and calculate (x1, y1) = k * G\n",
    "    dA = STU_ID # use as private key\n",
    "    QA = dA * g # QA = dA * G\n",
    "    n_order = g.order()\n",
    "    print('order of G = ', n_order)\n",
    "    k = 666 # select k [1, n - 1], this is the ephemeral key\n",
    "    x1, y1 = k * g\n",
    "    \n",
    "    # 5. calculate r = x1 mod n\n",
    "    k_modinv = modinv(k, n_order)\n",
    "    r = x1 % n_order\n",
    "    \n",
    "    # 6, calculate s = k ^ -1 (z + rdA) mod n\n",
    "    msg_hashed = 0x7003b599f401d2169a86845cf20d813c8e6d2fec18dc2ebd928d4f2dbcfc9b6c\n",
    "    s = k_modinv * (msg_hashed + r * dA) % n_order\n",
    "    print('r = %s \\ns = %s' % (hex(r), hex(s)))\n",
    "    \n",
    "def verifying():\n",
    "    print('\\n--------------ECDSA Verifying-----------------\\n')\n",
    "    \n",
    "    \n",
    "\n",
    "signing()"
   ]
  },
  {
   "cell_type": "code",
   "execution_count": null,
   "metadata": {},
   "outputs": [],
   "source": []
  },
  {
   "cell_type": "code",
   "execution_count": null,
   "metadata": {},
   "outputs": [],
   "source": []
  }
 ],
 "metadata": {
  "kernelspec": {
   "display_name": "Python 3",
   "language": "python",
   "name": "python3"
  },
  "language_info": {
   "codemirror_mode": {
    "name": "ipython",
    "version": 3
   },
   "file_extension": ".py",
   "mimetype": "text/x-python",
   "name": "python",
   "nbconvert_exporter": "python",
   "pygments_lexer": "ipython3",
   "version": "3.6.10"
  }
 },
 "nbformat": 4,
 "nbformat_minor": 2
}
